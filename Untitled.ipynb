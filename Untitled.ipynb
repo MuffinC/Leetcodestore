{
 "cells": [
  {
   "cell_type": "code",
   "execution_count": 1,
   "id": "86b8b8f8",
   "metadata": {},
   "outputs": [
    {
     "name": "stdout",
     "output_type": "stream",
     "text": [
      "34.5\n"
     ]
    }
   ],
   "source": [
    "# Using 1-D array\n",
    "import numpy as np\n",
    "\n",
    "# Array of data\n",
    "arr = [20,23,24,38,55,64,78,85,86,88,98,100]\n",
    "\n",
    "\n",
    "x = np.percentile(arr, 25)\n",
    "print(x)"
   ]
  },
  {
   "cell_type": "code",
   "execution_count": null,
   "id": "39c7e5eb",
   "metadata": {},
   "outputs": [],
   "source": []
  }
 ],
 "metadata": {
  "kernelspec": {
   "display_name": "Python 3 (ipykernel)",
   "language": "python",
   "name": "python3"
  },
  "language_info": {
   "codemirror_mode": {
    "name": "ipython",
    "version": 3
   },
   "file_extension": ".py",
   "mimetype": "text/x-python",
   "name": "python",
   "nbconvert_exporter": "python",
   "pygments_lexer": "ipython3",
   "version": "3.7.0"
  }
 },
 "nbformat": 4,
 "nbformat_minor": 5
}
