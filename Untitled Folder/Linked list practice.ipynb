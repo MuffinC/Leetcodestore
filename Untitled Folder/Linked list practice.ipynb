{
 "cells": [
  {
   "cell_type": "code",
   "execution_count": 1,
   "id": "e2128a40",
   "metadata": {},
   "outputs": [],
   "source": [
    "from collections import deque\n"
   ]
  },
  {
   "cell_type": "code",
   "execution_count": 2,
   "id": "643e4344",
   "metadata": {},
   "outputs": [],
   "source": [
    "linked_list=deque()\n"
   ]
  },
  {
   "cell_type": "code",
   "execution_count": 3,
   "id": "135081e2",
   "metadata": {},
   "outputs": [],
   "source": [
    "linked_list.append(0)"
   ]
  },
  {
   "cell_type": "code",
   "execution_count": 4,
   "id": "ac8be3ca",
   "metadata": {},
   "outputs": [
    {
     "data": {
      "text/plain": [
       "deque([0])"
      ]
     },
     "execution_count": 4,
     "metadata": {},
     "output_type": "execute_result"
    }
   ],
   "source": [
    "linked_list"
   ]
  },
  {
   "cell_type": "code",
   "execution_count": 6,
   "id": "3715c2eb",
   "metadata": {},
   "outputs": [],
   "source": [
    "linked_list.appendleft(1)"
   ]
  },
  {
   "cell_type": "code",
   "execution_count": 7,
   "id": "78f6079f",
   "metadata": {},
   "outputs": [
    {
     "data": {
      "text/plain": [
       "deque([1, 0])"
      ]
     },
     "execution_count": 7,
     "metadata": {},
     "output_type": "execute_result"
    }
   ],
   "source": [
    "linked_list"
   ]
  },
  {
   "cell_type": "code",
   "execution_count": 8,
   "id": "ff035853",
   "metadata": {},
   "outputs": [],
   "source": [
    "linked_list.append(2)"
   ]
  },
  {
   "cell_type": "code",
   "execution_count": 9,
   "id": "b5bb6c27",
   "metadata": {},
   "outputs": [
    {
     "data": {
      "text/plain": [
       "deque([1, 0, 2])"
      ]
     },
     "execution_count": 9,
     "metadata": {},
     "output_type": "execute_result"
    }
   ],
   "source": [
    "linked_list"
   ]
  },
  {
   "cell_type": "code",
   "execution_count": 10,
   "id": "0d39a7b6",
   "metadata": {},
   "outputs": [
    {
     "data": {
      "text/plain": [
       "1"
      ]
     },
     "execution_count": 10,
     "metadata": {},
     "output_type": "execute_result"
    }
   ],
   "source": [
    "linked_list.popleft()"
   ]
  },
  {
   "cell_type": "code",
   "execution_count": 11,
   "id": "c17ddc21",
   "metadata": {},
   "outputs": [
    {
     "data": {
      "text/plain": [
       "deque([0, 2])"
      ]
     },
     "execution_count": 11,
     "metadata": {},
     "output_type": "execute_result"
    }
   ],
   "source": [
    "linked_list"
   ]
  },
  {
   "cell_type": "code",
   "execution_count": 26,
   "id": "04ba7515",
   "metadata": {},
   "outputs": [],
   "source": [
    "class Node:\n",
    "    def __init__(self,data=None):\n",
    "        self.data=data\n",
    "        self.next=None\n",
    "        \n",
    "class Linked:\n",
    "    def __init__(self):\n",
    "        self.head=None\n",
    "        \n",
    "    def show(self):\n",
    "        node=self.head\n",
    "        while node !=None:\n",
    "            print(node.data)\n",
    "            node=node.next\n",
    "            \n",
    "    def add(self,new):\n",
    "        new_node=Node(new)\n",
    "        new_node.next=self.head\n",
    "        self.head=new_node\n",
    "    "
   ]
  },
  {
   "cell_type": "code",
   "execution_count": 27,
   "id": "8d8ef0b0",
   "metadata": {},
   "outputs": [],
   "source": [
    "link=Linked()"
   ]
  },
  {
   "cell_type": "code",
   "execution_count": 28,
   "id": "9082bb80",
   "metadata": {},
   "outputs": [],
   "source": [
    "elem= Node('Edureka')"
   ]
  },
  {
   "cell_type": "code",
   "execution_count": 29,
   "id": "b3fd3f71",
   "metadata": {},
   "outputs": [],
   "source": [
    "link.head=elem\n"
   ]
  },
  {
   "cell_type": "code",
   "execution_count": 30,
   "id": "ef2c9ee3",
   "metadata": {},
   "outputs": [
    {
     "name": "stdout",
     "output_type": "stream",
     "text": [
      "Edureka\n"
     ]
    }
   ],
   "source": [
    "link.show()"
   ]
  },
  {
   "cell_type": "code",
   "execution_count": 31,
   "id": "529df907",
   "metadata": {},
   "outputs": [],
   "source": [
    "element2= Node(\"python\")"
   ]
  },
  {
   "cell_type": "code",
   "execution_count": 32,
   "id": "462dacdf",
   "metadata": {},
   "outputs": [],
   "source": [
    "link.head.next=element2\n"
   ]
  },
  {
   "cell_type": "code",
   "execution_count": 33,
   "id": "6f807d30",
   "metadata": {},
   "outputs": [
    {
     "name": "stdout",
     "output_type": "stream",
     "text": [
      "Edureka\n",
      "python\n"
     ]
    }
   ],
   "source": [
    "link.show()\n"
   ]
  },
  {
   "cell_type": "code",
   "execution_count": 34,
   "id": "11ca523d",
   "metadata": {},
   "outputs": [],
   "source": [
    "link.add(\"Certification\")"
   ]
  },
  {
   "cell_type": "code",
   "execution_count": 35,
   "id": "8f1c3d59",
   "metadata": {},
   "outputs": [
    {
     "name": "stdout",
     "output_type": "stream",
     "text": [
      "Certification\n",
      "Edureka\n",
      "python\n"
     ]
    }
   ],
   "source": [
    "link.show()\n"
   ]
  },
  {
   "cell_type": "code",
   "execution_count": null,
   "id": "99d7e47a",
   "metadata": {},
   "outputs": [],
   "source": []
  }
 ],
 "metadata": {
  "kernelspec": {
   "display_name": "Python 3 (ipykernel)",
   "language": "python",
   "name": "python3"
  },
  "language_info": {
   "codemirror_mode": {
    "name": "ipython",
    "version": 3
   },
   "file_extension": ".py",
   "mimetype": "text/x-python",
   "name": "python",
   "nbconvert_exporter": "python",
   "pygments_lexer": "ipython3",
   "version": "3.7.0"
  }
 },
 "nbformat": 4,
 "nbformat_minor": 5
}
